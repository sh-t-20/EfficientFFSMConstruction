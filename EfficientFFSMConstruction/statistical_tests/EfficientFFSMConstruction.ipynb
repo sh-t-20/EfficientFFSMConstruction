{
 "cells": [
  {
   "cell_type": "markdown",
   "id": "5ab989eb",
   "metadata": {},
   "source": [
    "# Importing the required packages"
   ]
  },
  {
   "cell_type": "code",
   "execution_count": 1,
   "id": "4ee94bca",
   "metadata": {},
   "outputs": [],
   "source": [
    "import numpy as np\n",
    "from scipy.stats import ttest_ind, ttest_rel, ttest_1samp, kstest, shapiro, pearsonr, mannwhitneyu\n",
    "import pandas as pd\n",
    "import matplotlib.pyplot as plt"
   ]
  },
  {
   "cell_type": "markdown",
   "id": "7e6c8b68",
   "metadata": {
    "scrolled": true
   },
   "source": [
    "# Order metrics:"
   ]
  },
  {
   "cell_type": "code",
   "execution_count": 2,
   "id": "901c6757",
   "metadata": {},
   "outputs": [
    {
     "name": "stdout",
     "output_type": "stream",
     "text": [
      "The parameter D:\n",
      "(-0.24603484198516204, 0.0004451057953550756)\n",
      "(-0.27195636417335767, 9.794936409940394e-05)\n",
      "(-0.2618876248797688, 0.0001796565889833159)\n",
      "\n",
      "The parameter D':\n",
      "(-0.3536398720724467, 2.7940271617953163e-07)\n",
      "(-0.42610893521721793, 3.1584798686087945e-10)\n",
      "(-0.40255426310421377, 3.437500040589687e-09)\n"
     ]
    }
   ],
   "source": [
    "df1 = pd.read_csv('metrics_result_m_3sampling_200_v2.csv')\n",
    "\n",
    "df2 = pd.read_csv('metric_results_m_orders_v2.csv')\n",
    "df3 = pd.read_csv('metric_results_m_orders_2_v2.csv')\n",
    "\n",
    "a_rounds_count1 = df1.iloc[:,1]\n",
    "a_resets_count1 = df1.iloc[:,6]\n",
    "a_symbols_count1 = df1.iloc[:,7]\n",
    "\n",
    "order_metrics1 = df2.iloc[:,1]\n",
    "order_metrics1_2 = df3.iloc[:,1]\n",
    "\n",
    "print(\"The parameter D:\")\n",
    "\n",
    "result_rounds = pearsonr(a_rounds_count1, order_metrics1)\n",
    "print(result_rounds)\n",
    "\n",
    "result_resets = pearsonr(a_resets_count1, order_metrics1)\n",
    "print(result_resets)\n",
    "\n",
    "result_symbols = pearsonr(a_symbols_count1, order_metrics1)\n",
    "print(result_symbols)\n",
    "\n",
    "print(\"\\nThe parameter D':\")\n",
    "\n",
    "result_rounds = pearsonr(a_rounds_count1, order_metrics1_2)\n",
    "print(result_rounds)\n",
    "\n",
    "result_resets = pearsonr(a_resets_count1, order_metrics1_2)\n",
    "print(result_resets)\n",
    "\n",
    "result_symbols = pearsonr(a_symbols_count1, order_metrics1_2)\n",
    "print(result_symbols)"
   ]
  },
  {
   "cell_type": "code",
   "execution_count": null,
   "id": "c7e3ad8e",
   "metadata": {},
   "outputs": [],
   "source": [
    "print(round(-0.40255426310421377,3))"
   ]
  },
  {
   "cell_type": "code",
   "execution_count": 3,
   "id": "f9ddea8e",
   "metadata": {},
   "outputs": [
    {
     "name": "stdout",
     "output_type": "stream",
     "text": [
      "The parameter D:\n",
      "(-0.18890743178580785, 0.007384827428321056)\n",
      "(-0.31681036305540505, 4.863806777566588e-06)\n",
      "(-0.2857501434448641, 4.1023660974438163e-05)\n",
      "\n",
      "The parameter D':\n",
      "(-0.4165948875525585, 8.470844770805101e-10)\n",
      "(-0.4722013662334787, 1.677946879640006e-12)\n",
      "(-0.4209164333116969, 5.432111594396525e-10)\n"
     ]
    }
   ],
   "source": [
    "df1 = pd.read_csv('metrics_result_b_3sampling_200_v2.csv')\n",
    "\n",
    "df2 = pd.read_csv('metric_results_b_orders_v2.csv')\n",
    "df3 = pd.read_csv('metric_results_b_orders_2_v2.csv')\n",
    "\n",
    "a_rounds_count2 = df1.iloc[:,1]\n",
    "a_resets_count2 = df1.iloc[:,6]\n",
    "a_symbols_count2 = df1.iloc[:,7]\n",
    "\n",
    "order_metrics2 = df2.iloc[:,1]\n",
    "order_metrics2_2 = df3.iloc[:,1]\n",
    "\n",
    "print(\"The parameter D:\")\n",
    "\n",
    "result_rounds = pearsonr(a_rounds_count2, order_metrics2)\n",
    "print(result_rounds)\n",
    "\n",
    "result_resets = pearsonr(a_resets_count2, order_metrics2)\n",
    "print(result_resets)\n",
    "\n",
    "result_symbols = pearsonr(a_symbols_count2, order_metrics2)\n",
    "print(result_symbols)\n",
    "\n",
    "print(\"\\nThe parameter D':\")\n",
    "\n",
    "result_rounds = pearsonr(a_rounds_count2, order_metrics2_2)\n",
    "print(result_rounds)\n",
    "\n",
    "result_resets = pearsonr(a_resets_count2, order_metrics2_2)\n",
    "print(result_resets)\n",
    "\n",
    "result_symbols = pearsonr(a_symbols_count2, order_metrics2_2)\n",
    "print(result_symbols)"
   ]
  },
  {
   "cell_type": "code",
   "execution_count": 11,
   "id": "9454298c",
   "metadata": {},
   "outputs": [
    {
     "name": "stdout",
     "output_type": "stream",
     "text": [
      "5.432\n"
     ]
    }
   ],
   "source": [
    "print(round(5.432111594396525,3))"
   ]
  },
  {
   "cell_type": "code",
   "execution_count": null,
   "id": "29374de3",
   "metadata": {},
   "outputs": [],
   "source": [
    "# The diagrams of both metrics, resets\n",
    "labels=['']\n",
    "fig, ((ax1, ax2),(ax3, ax4))=plt.subplots(nrows=2, ncols=2, figsize=(9.2,11))\n",
    "# fig.tight_layout()\n",
    "\n",
    "x = order_metrics1\n",
    "y = a_resets_count1\n",
    "plot1 = ax1.plot(x, y, 'o', color='skyblue')\n",
    "m, b = np.polyfit(x, y, 1)\n",
    "ax1.plot(x, m*x+b, color='darkblue')\n",
    "ax1.set_title('a) The Minepump SPL', fontsize=14, pad=17)\n",
    "ax1.set_ylabel('Total number of resets', fontsize=13)\n",
    "ax1.set_xlabel('D parameter', fontsize=13)\n",
    "\n",
    "x = order_metrics1_2\n",
    "y = a_resets_count1\n",
    "plot2 = ax2.plot(x, y, 'o', color='violet')\n",
    "m, b = np.polyfit(x, y, 1)\n",
    "ax2.plot(x, m*x+b, color='purple')\n",
    "ax2.set_title('a) The Minepump SPL', fontsize=14, pad=17)\n",
    "ax2.set_ylabel('Total number of resets', fontsize=13)\n",
    "ax2.set_xlabel('D\\' parameter', fontsize=13)\n",
    "\n",
    "\n",
    "x = order_metrics2\n",
    "y = a_resets_count2\n",
    "plot3 = ax3.plot(x, y, 'o', color='skyblue')\n",
    "m, b = np.polyfit(x, y, 1)\n",
    "ax3.plot(x, m*x+b, color='darkblue')\n",
    "ax3.set_title('b) The BCS SPL', fontsize=14, pad=17)\n",
    "ax3.set_ylabel('Total number of resets', fontsize=13)\n",
    "ax3.set_xlabel('D parameter', fontsize=13)\n",
    "\n",
    "x = order_metrics2_2\n",
    "y = a_resets_count2\n",
    "plot4 = ax4.plot(x, y, 'o', color='violet')\n",
    "m, b = np.polyfit(x, y, 1)\n",
    "ax4.plot(x, m*x+b, color='purple')\n",
    "ax4.set_title('b) The BCS SPL', fontsize=14, pad=17)\n",
    "ax4.set_ylabel('Total number of resets', fontsize=13)\n",
    "ax4.set_xlabel('D\\' parameter', fontsize=13)\n",
    "\n",
    "# fig.suptitle('The total number of query symbols', fontsize=14, fontweight='bold', x=0.54)\n",
    "\n",
    "plt.subplots_adjust(top=0.83, bottom=0.17, wspace=0.35, hspace=0.46)\n",
    "\n",
    "# fig.legend([bplot1[\"boxes\"][0],line],['The adaptive learning method','The non-adaptive learning method'], loc='lower center', fontsize = 11)\n",
    "\n",
    "plt.show()"
   ]
  },
  {
   "cell_type": "code",
   "execution_count": null,
   "id": "c0ce1945",
   "metadata": {},
   "outputs": [],
   "source": [
    "# The diagrams of both metrics, input symbols\n",
    "labels=['']\n",
    "fig, ((ax1, ax2),(ax3, ax4))=plt.subplots(nrows=2, ncols=2, figsize=(9.2,11))\n",
    "# fig.tight_layout()\n",
    "\n",
    "x = order_metrics1\n",
    "y = a_symbols_count1\n",
    "plot1 = ax1.plot(x, y, 'o', color='skyblue')\n",
    "m, b = np.polyfit(x, y, 1)\n",
    "ax1.plot(x, m*x+b, color='darkblue')\n",
    "ax1.set_title('a) The Minepump SPL', fontsize=14, pad=17)\n",
    "ax1.set_ylabel('Total number of input symbols', fontsize=13)\n",
    "ax1.set_xlabel('D parameter', fontsize=13)\n",
    "\n",
    "x = order_metrics1_2\n",
    "y = a_symbols_count1\n",
    "plot2 = ax2.plot(x, y, 'o', color='violet')\n",
    "m, b = np.polyfit(x, y, 1)\n",
    "ax2.plot(x, m*x+b, color='purple')\n",
    "ax2.set_title('a) The Minepump SPL', fontsize=14, pad=17)\n",
    "ax2.set_ylabel('Total number of input symbols', fontsize=13)\n",
    "ax2.set_xlabel('D\\' parameter', fontsize=13)\n",
    "\n",
    "\n",
    "x = order_metrics2\n",
    "y = a_symbols_count2\n",
    "plot3 = ax3.plot(x, y, 'o', color='skyblue')\n",
    "m, b = np.polyfit(x, y, 1)\n",
    "ax3.plot(x, m*x+b, color='darkblue')\n",
    "ax3.set_title('b) The BCS SPL', fontsize=14, pad=17)\n",
    "ax3.set_ylabel('Total number of input symbols', fontsize=13)\n",
    "ax3.set_xlabel('D parameter', fontsize=13)\n",
    "\n",
    "x = order_metrics2_2\n",
    "y = a_symbols_count2\n",
    "plot4 = ax4.plot(x, y, 'o', color='violet')\n",
    "m, b = np.polyfit(x, y, 1)\n",
    "ax4.plot(x, m*x+b, color='purple')\n",
    "ax4.set_title('b) The BCS SPL', fontsize=14, pad=17)\n",
    "ax4.set_ylabel('Total number of input symbols', fontsize=13)\n",
    "ax4.set_xlabel('D\\' parameter', fontsize=13)\n",
    "\n",
    "# fig.suptitle('The total number of query symbols', fontsize=14, fontweight='bold', x=0.54)\n",
    "\n",
    "plt.subplots_adjust(top=0.83, bottom=0.17, wspace=0.35, hspace=0.46)\n",
    "\n",
    "# fig.legend([bplot1[\"boxes\"][0],line],['The adaptive learning method','The non-adaptive learning method'], loc='lower center', fontsize = 11)\n",
    "\n",
    "plt.show()"
   ]
  },
  {
   "cell_type": "markdown",
   "id": "1355fbd2",
   "metadata": {},
   "source": [
    "# FFSM Construction (Conciseness)"
   ]
  },
  {
   "cell_type": "code",
   "execution_count": null,
   "id": "611c0c41",
   "metadata": {},
   "outputs": [],
   "source": [
    "t_array = np.linspace(0,1,21)\n",
    "\n",
    "df1 = pd.read_csv('similarity_metrics_conciseness_m.csv')\n",
    "\n",
    "state_count_w_metric_m = df1.iloc[:,1]\n",
    "transition_count_w_metric_m = df1.iloc[:,2]\n",
    "\n",
    "state_count_new_metric_m = df1.iloc[:,3]\n",
    "transition_count_new_metric_m = df1.iloc[:,4]\n",
    "\n",
    "state_count_g_metric_m = df1.iloc[:,5]\n",
    "transition_count_g_metric_m = df1.iloc[:,6]\n",
    "\n",
    "\n",
    "df2 = pd.read_csv('similarity_metrics_conciseness_b.csv')\n",
    "\n",
    "state_count_w_metric_b = df2.iloc[:,1]\n",
    "transition_count_w_metric_b = df2.iloc[:,2]\n",
    "\n",
    "state_count_new_metric_b = df2.iloc[:,3]\n",
    "transition_count_new_metric_b = df2.iloc[:,4]"
   ]
  },
  {
   "cell_type": "code",
   "execution_count": null,
   "id": "f8f50c52",
   "metadata": {},
   "outputs": [],
   "source": [
    "# The Minepump SPL, FFSM size\n",
    "\n",
    "plt.figure(figsize=(8.5,5))\n",
    "\n",
    "x = t_array\n",
    "y = transition_count_w_metric_m\n",
    "plt.plot(x, y, '-', marker='o' , linestyle='dashed', label='The local similarity metric v1', color='grey')\n",
    "\n",
    "y = transition_count_new_metric_m\n",
    "plt.plot(x, y, '-', marker='o', linestyle='dashed', label='The local similarity metric v2', color='blue')\n",
    "\n",
    "y = transition_count_g_metric_m\n",
    "plt.plot(x, y, '-', marker='o' , linestyle='dashed', label='The global similarity metric', color='darkred')\n",
    "\n",
    "\n",
    "plt.title('Number of transitions of the final FFSM in the Minepump SPL', fontsize=14, pad=13)\n",
    "plt.ylabel('Number of transitions', fontsize=13)\n",
    "plt.xlabel('The patameter t', fontsize=13)\n",
    "plt.legend(fontsize=12)\n",
    "plt.show()"
   ]
  },
  {
   "cell_type": "code",
   "execution_count": null,
   "id": "8f386063",
   "metadata": {},
   "outputs": [],
   "source": [
    "# The BCS SPL, FFSM size\n",
    "\n",
    "plt.figure(figsize=(8.5,5))\n",
    "\n",
    "x = t_array\n",
    "y = transition_count_w_metric_b\n",
    "plt.plot(x, y, '-', marker='o' , linestyle='dashed', label='The local similarity metric v1', color='grey')\n",
    "\n",
    "y = transition_count_new_metric_b\n",
    "plt.plot(x, y, '-', marker='o' , linestyle='dashed', label='The local similarity metric v2', color='blue')\n",
    "\n",
    "\n",
    "plt.title('Number of transitions of the final FFSM in the BCS SPL', fontsize=14, pad=13)\n",
    "plt.ylabel('Number of transitions', fontsize=13)\n",
    "plt.xlabel('The parameter t', fontsize=13)\n",
    "plt.legend(fontsize=12)\n",
    "plt.show()"
   ]
  },
  {
   "cell_type": "markdown",
   "id": "44568e2c",
   "metadata": {},
   "source": [
    "# FFSM Construction (Efficiency)"
   ]
  },
  {
   "cell_type": "code",
   "execution_count": null,
   "id": "f923c38c",
   "metadata": {},
   "outputs": [],
   "source": [
    "df2_1 = pd.read_csv('w_similarity_metric_b_0.5_av5_2_2.csv')\n",
    "average_time_w_metric_b = df2_1.iloc[1:16,13]\n",
    "index_array_2_1 = df2_1.iloc[1:16,1].to_numpy()*df2_1.iloc[1:16,2].to_numpy()\n",
    "\n",
    "df2_2 = pd.read_csv('new_similarity_metric_b_0.5_av6_2_2.csv')\n",
    "average_time_new_metric_b = df2_2.iloc[1:16,13]\n",
    "index_array_2_2 = df2_2.iloc[1:16,1].to_numpy()*df2_2.iloc[1:16,2].to_numpy()\n",
    "\n",
    "df2_3 = pd.read_csv('global_similarity_metric_b_0.5_av1_2_2.csv')\n",
    "average_time_g_metric_b = df2_3.iloc[1:11,13]\n",
    "index_array_2_3 = df2_3.iloc[1:11,1].to_numpy()*df2_3.iloc[1:11,2].to_numpy()"
   ]
  },
  {
   "cell_type": "code",
   "execution_count": null,
   "id": "635fee52",
   "metadata": {},
   "outputs": [],
   "source": [
    "# Efficiency of FFSm construction vs. size of the merged models\n",
    "\n",
    "plt.figure(figsize=(8,6.5))\n",
    "\n",
    "x = np.log(index_array_2_1)\n",
    "y = np.log(average_time_w_metric_b)\n",
    "plt.plot(x, y, '-', marker='o', linestyle='dashed', label='The local similarity metric v1', color='grey')\n",
    "\n",
    "x = np.log(index_array_2_2)\n",
    "y = np.log(average_time_new_metric_b)\n",
    "plt.plot(x, y, '-', marker='o', linestyle='dashed', label='The local similarity metric v2', color='blue')\n",
    "\n",
    "x = np.log(index_array_2_3)\n",
    "y = np.log(average_time_g_metric_b)\n",
    "plt.plot(x, y, '-', marker='o', linestyle='dashed', label='The global similarity metric', color='darkred')\n",
    "\n",
    "\n",
    "plt.title('The time required for FFSM construction (ms)', fontsize=14, pad=13)\n",
    "plt.ylabel('$\\log T_{i}$', fontsize=13)\n",
    "plt.xlabel('$\\log (|C_{i-1}|.|S_{i}|)$', fontsize=13)\n",
    "plt.legend(fontsize=12)\n",
    "plt.show()"
   ]
  },
  {
   "cell_type": "code",
   "execution_count": null,
   "id": "21e38cd3",
   "metadata": {},
   "outputs": [],
   "source": []
  }
 ],
 "metadata": {
  "kernelspec": {
   "display_name": "Python 3",
   "language": "python",
   "name": "python3"
  },
  "language_info": {
   "codemirror_mode": {
    "name": "ipython",
    "version": 3
   },
   "file_extension": ".py",
   "mimetype": "text/x-python",
   "name": "python",
   "nbconvert_exporter": "python",
   "pygments_lexer": "ipython3",
   "version": "3.8.8"
  }
 },
 "nbformat": 4,
 "nbformat_minor": 5
}
